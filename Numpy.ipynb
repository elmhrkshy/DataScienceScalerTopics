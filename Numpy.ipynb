{
 "cells": [
  {
   "cell_type": "code",
   "execution_count": 1,
   "id": "2c093696-6e47-42af-9ffd-33482d82236a",
   "metadata": {},
   "outputs": [],
   "source": [
    "import numpy as np"
   ]
  },
  {
   "cell_type": "code",
   "execution_count": 2,
   "id": "f50e5e1c-b018-4b04-a94e-88ea77e48b46",
   "metadata": {},
   "outputs": [],
   "source": [
    "python_list = [1,2,3,5,-5]"
   ]
  },
  {
   "cell_type": "code",
   "execution_count": 3,
   "id": "7bf09356-90a7-47b3-a14a-7e71bf46f772",
   "metadata": {},
   "outputs": [
    {
     "data": {
      "text/plain": [
       "[1, 2, 3, 5, -5]"
      ]
     },
     "execution_count": 3,
     "metadata": {},
     "output_type": "execute_result"
    }
   ],
   "source": [
    "python_list"
   ]
  },
  {
   "cell_type": "code",
   "execution_count": 4,
   "id": "d52333c8-fc13-4dbd-a02c-27cd26b04bca",
   "metadata": {},
   "outputs": [],
   "source": [
    "nump_arr = np.array(python_list)"
   ]
  },
  {
   "cell_type": "code",
   "execution_count": 5,
   "id": "eb8ba7ce-5033-4dfa-8107-33881cb12d35",
   "metadata": {},
   "outputs": [
    {
     "data": {
      "text/plain": [
       "array([ 1,  2,  3,  5, -5])"
      ]
     },
     "execution_count": 5,
     "metadata": {},
     "output_type": "execute_result"
    }
   ],
   "source": [
    "nump_arr"
   ]
  },
  {
   "cell_type": "code",
   "execution_count": 6,
   "id": "62ed4251-2d05-4be7-b981-5784d356c937",
   "metadata": {},
   "outputs": [
    {
     "data": {
      "text/plain": [
       "(5,)"
      ]
     },
     "execution_count": 6,
     "metadata": {},
     "output_type": "execute_result"
    }
   ],
   "source": [
    "nump_arr.shape"
   ]
  },
  {
   "cell_type": "code",
   "execution_count": 7,
   "id": "ae722887-4710-4ab2-a0a6-d4f270c2abb1",
   "metadata": {},
   "outputs": [
    {
     "data": {
      "text/plain": [
       "1"
      ]
     },
     "execution_count": 7,
     "metadata": {},
     "output_type": "execute_result"
    }
   ],
   "source": [
    "len(nump_arr.shape)"
   ]
  },
  {
   "cell_type": "code",
   "execution_count": 8,
   "id": "5a210c2e-5175-41ff-bbe5-b943af25e98f",
   "metadata": {},
   "outputs": [],
   "source": [
    "python_list_list = [[1,2],[3,4]] "
   ]
  },
  {
   "cell_type": "code",
   "execution_count": 9,
   "id": "fafc1c96-58d0-4308-952c-2c6ae433a8f1",
   "metadata": {},
   "outputs": [
    {
     "data": {
      "text/plain": [
       "[[1, 2], [3, 4]]"
      ]
     },
     "execution_count": 9,
     "metadata": {},
     "output_type": "execute_result"
    }
   ],
   "source": [
    "python_list_list"
   ]
  },
  {
   "cell_type": "code",
   "execution_count": 10,
   "id": "06dde1e2-0b68-4af6-b085-aa5d34109fa4",
   "metadata": {},
   "outputs": [],
   "source": [
    "nump_arr2d = np.array(python_list_list)"
   ]
  },
  {
   "cell_type": "code",
   "execution_count": 11,
   "id": "c413f3a8-20c6-40ea-bfdd-1daa119510b4",
   "metadata": {},
   "outputs": [
    {
     "data": {
      "text/plain": [
       "array([[1, 2],\n",
       "       [3, 4]])"
      ]
     },
     "execution_count": 11,
     "metadata": {},
     "output_type": "execute_result"
    }
   ],
   "source": [
    "nump_arr2d"
   ]
  },
  {
   "cell_type": "code",
   "execution_count": 12,
   "id": "41122891-5ef0-4062-8d37-72dedc6ad461",
   "metadata": {},
   "outputs": [
    {
     "data": {
      "text/plain": [
       "(2, 2)"
      ]
     },
     "execution_count": 12,
     "metadata": {},
     "output_type": "execute_result"
    }
   ],
   "source": [
    "nump_arr2d.shape"
   ]
  },
  {
   "cell_type": "code",
   "execution_count": 13,
   "id": "4a09b030-34b7-4763-9ab2-5035d8626e26",
   "metadata": {},
   "outputs": [
    {
     "data": {
      "text/plain": [
       "2"
      ]
     },
     "execution_count": 13,
     "metadata": {},
     "output_type": "execute_result"
    }
   ],
   "source": [
    "len(nump_arr2d)"
   ]
  },
  {
   "cell_type": "code",
   "execution_count": 14,
   "id": "71090194-5598-41c2-8342-ef4bd07998b4",
   "metadata": {},
   "outputs": [
    {
     "data": {
      "text/plain": [
       "2"
      ]
     },
     "execution_count": 14,
     "metadata": {},
     "output_type": "execute_result"
    }
   ],
   "source": [
    "len(nump_arr2d.shape)"
   ]
  },
  {
   "cell_type": "code",
   "execution_count": 15,
   "id": "03500ab9-02a1-4312-86cc-a3dff4512941",
   "metadata": {},
   "outputs": [],
   "source": [
    "python_list_list = [[1,2,5],[3,4,6]] "
   ]
  },
  {
   "cell_type": "code",
   "execution_count": 16,
   "id": "3c490db9-0673-4f57-b29d-e31a39bfad51",
   "metadata": {},
   "outputs": [
    {
     "data": {
      "text/plain": [
       "(2, 3)"
      ]
     },
     "execution_count": 16,
     "metadata": {},
     "output_type": "execute_result"
    }
   ],
   "source": [
    "np.array(python_list_list).shape"
   ]
  },
  {
   "cell_type": "code",
   "execution_count": 17,
   "id": "c0936627-1166-4a2b-a2d9-0ce63020eced",
   "metadata": {},
   "outputs": [
    {
     "data": {
      "text/plain": [
       "range(0, 5)"
      ]
     },
     "execution_count": 17,
     "metadata": {},
     "output_type": "execute_result"
    }
   ],
   "source": [
    "range(5)"
   ]
  },
  {
   "cell_type": "code",
   "execution_count": 18,
   "id": "16585ee1-3ac7-4654-a7b0-8b823fa26fa0",
   "metadata": {},
   "outputs": [
    {
     "data": {
      "text/plain": [
       "[0, 1, 2, 3, 4]"
      ]
     },
     "execution_count": 18,
     "metadata": {},
     "output_type": "execute_result"
    }
   ],
   "source": [
    "list(range(5))"
   ]
  },
  {
   "cell_type": "code",
   "execution_count": 19,
   "id": "d6add01b-91e2-4aa7-a856-a29d9469e2cc",
   "metadata": {},
   "outputs": [
    {
     "data": {
      "text/plain": [
       "array([0, 1, 2, 3, 4])"
      ]
     },
     "execution_count": 19,
     "metadata": {},
     "output_type": "execute_result"
    }
   ],
   "source": [
    "np.arange(5)"
   ]
  },
  {
   "cell_type": "code",
   "execution_count": 20,
   "id": "30a42b65-9747-43b3-ae4e-060fa00914db",
   "metadata": {},
   "outputs": [
    {
     "data": {
      "text/plain": [
       "array([0., 0., 0., 0., 0.])"
      ]
     },
     "execution_count": 20,
     "metadata": {},
     "output_type": "execute_result"
    }
   ],
   "source": [
    "np.zeros(5)"
   ]
  },
  {
   "cell_type": "code",
   "execution_count": 21,
   "id": "1abe9534-0e00-4868-a3ad-ccb53918342a",
   "metadata": {},
   "outputs": [
    {
     "data": {
      "text/plain": [
       "array([0., 0., 0., 0., 0.])"
      ]
     },
     "execution_count": 21,
     "metadata": {},
     "output_type": "execute_result"
    }
   ],
   "source": [
    "np.zeros((5))"
   ]
  },
  {
   "cell_type": "code",
   "execution_count": 22,
   "id": "8a73aab7-cd87-48df-9739-60416ec86133",
   "metadata": {},
   "outputs": [
    {
     "data": {
      "text/plain": [
       "array([[0., 0.],\n",
       "       [0., 0.]])"
      ]
     },
     "execution_count": 22,
     "metadata": {},
     "output_type": "execute_result"
    }
   ],
   "source": [
    "np.zeros((2,2))"
   ]
  },
  {
   "cell_type": "code",
   "execution_count": 23,
   "id": "dc1182dc-a44d-4f4f-860a-3937ea068cfd",
   "metadata": {},
   "outputs": [
    {
     "data": {
      "text/plain": [
       "array([[[0., 0., 0.],\n",
       "        [0., 0., 0.]],\n",
       "\n",
       "       [[0., 0., 0.],\n",
       "        [0., 0., 0.]]])"
      ]
     },
     "execution_count": 23,
     "metadata": {},
     "output_type": "execute_result"
    }
   ],
   "source": [
    "np.zeros((2,2,3))"
   ]
  },
  {
   "cell_type": "code",
   "execution_count": 24,
   "id": "d5366a49-dce1-4b20-881b-37b0439809d1",
   "metadata": {},
   "outputs": [
    {
     "data": {
      "text/plain": [
       "array([[1., 1.],\n",
       "       [1., 1.]])"
      ]
     },
     "execution_count": 24,
     "metadata": {},
     "output_type": "execute_result"
    }
   ],
   "source": [
    "np.ones((2,2))"
   ]
  },
  {
   "cell_type": "code",
   "execution_count": 25,
   "id": "d26bac6a-f7e3-42f1-a2d1-8cf2c818248b",
   "metadata": {},
   "outputs": [
    {
     "data": {
      "text/plain": [
       "array([[[1., 1., 1., 1., 1., 1.],\n",
       "        [1., 1., 1., 1., 1., 1.]],\n",
       "\n",
       "       [[1., 1., 1., 1., 1., 1.],\n",
       "        [1., 1., 1., 1., 1., 1.]]])"
      ]
     },
     "execution_count": 25,
     "metadata": {},
     "output_type": "execute_result"
    }
   ],
   "source": [
    "np.ones((2,2,6))"
   ]
  },
  {
   "cell_type": "code",
   "execution_count": 26,
   "id": "eefc4966-6ea0-4459-ba36-70ca2b276bee",
   "metadata": {},
   "outputs": [
    {
     "data": {
      "text/plain": [
       "<module 'numpy.random' from '/opt/homebrew/Cellar/jupyterlab/4.1.2/libexec/lib/python3.12/site-packages/numpy/random/__init__.py'>"
      ]
     },
     "execution_count": 26,
     "metadata": {},
     "output_type": "execute_result"
    }
   ],
   "source": [
    "np.random"
   ]
  },
  {
   "cell_type": "code",
   "execution_count": 27,
   "id": "6041f886-c1cc-4d8c-9dec-5fe8ba9ec402",
   "metadata": {},
   "outputs": [
    {
     "data": {
      "text/plain": [
       "<function RandomState.randint>"
      ]
     },
     "execution_count": 27,
     "metadata": {},
     "output_type": "execute_result"
    }
   ],
   "source": [
    "np.random.randint"
   ]
  },
  {
   "cell_type": "code",
   "execution_count": 28,
   "id": "310e711e-4531-437a-b21b-5e1dce1c3145",
   "metadata": {},
   "outputs": [
    {
     "data": {
      "text/plain": [
       "1"
      ]
     },
     "execution_count": 28,
     "metadata": {},
     "output_type": "execute_result"
    }
   ],
   "source": [
    "np.random.randint(5)"
   ]
  },
  {
   "cell_type": "code",
   "execution_count": 29,
   "id": "1e208b8a-6d36-4f3a-99bb-f8b68ef0b632",
   "metadata": {},
   "outputs": [
    {
     "data": {
      "text/plain": [
       "array([ 9,  1, 44])"
      ]
     },
     "execution_count": 29,
     "metadata": {},
     "output_type": "execute_result"
    }
   ],
   "source": [
    "np.random.randint((10,10,100))"
   ]
  },
  {
   "cell_type": "code",
   "execution_count": 30,
   "id": "f61e3efe-e437-485d-8bd8-020a1fada9da",
   "metadata": {},
   "outputs": [
    {
     "data": {
      "text/plain": [
       "array([[7, 8],\n",
       "       [4, 4]])"
      ]
     },
     "execution_count": 30,
     "metadata": {},
     "output_type": "execute_result"
    }
   ],
   "source": [
    "np.random.randint((10), size=(2,2))"
   ]
  },
  {
   "cell_type": "code",
   "execution_count": 31,
   "id": "8514d030-6ad8-42cf-91bd-5454fddfb117",
   "metadata": {},
   "outputs": [
    {
     "data": {
      "text/plain": [
       "array([[5, 0],\n",
       "       [2, 1]])"
      ]
     },
     "execution_count": 31,
     "metadata": {},
     "output_type": "execute_result"
    }
   ],
   "source": [
    "np.random.randint((10,2), size=(2,2))"
   ]
  },
  {
   "cell_type": "code",
   "execution_count": 36,
   "id": "b930556d-860e-4447-b26e-4021277955b4",
   "metadata": {},
   "outputs": [
    {
     "data": {
      "text/plain": [
       "array([[[ 5,  0, 42],\n",
       "        [ 9,  1, 53]],\n",
       "\n",
       "       [[ 3,  1, 77],\n",
       "        [ 2,  1, 30]]])"
      ]
     },
     "execution_count": 36,
     "metadata": {},
     "output_type": "execute_result"
    }
   ],
   "source": [
    "np.random.randint((10,2,99), size=(2,2,3))"
   ]
  },
  {
   "cell_type": "code",
   "execution_count": 33,
   "id": "d6e7dbd2-4c13-4f8a-99ec-865f76a1afda",
   "metadata": {},
   "outputs": [
    {
     "name": "stdout",
     "output_type": "stream",
     "text": [
      "Help on built-in function print in module builtins:\n",
      "\n",
      "print(*args, sep=' ', end='\\n', file=None, flush=False)\n",
      "    Prints the values to a stream, or to sys.stdout by default.\n",
      "\n",
      "    sep\n",
      "      string inserted between values, default a space.\n",
      "    end\n",
      "      string appended after the last value, default a newline.\n",
      "    file\n",
      "      a file-like object (stream); defaults to the current sys.stdout.\n",
      "    flush\n",
      "      whether to forcibly flush the stream.\n",
      "\n"
     ]
    }
   ],
   "source": [
    "help(print)"
   ]
  },
  {
   "cell_type": "code",
   "execution_count": 34,
   "id": "f58b1364-2dfd-4134-aedf-e1793baa707c",
   "metadata": {},
   "outputs": [
    {
     "name": "stdout",
     "output_type": "stream",
     "text": [
      "Welcome to Python 3.12's help utility! If this is your first time using\n",
      "Python, you should definitely check out the tutorial at\n",
      "https://docs.python.org/3.12/tutorial/.\n",
      "\n",
      "Enter the name of any module, keyword, or topic to get help on writing\n",
      "Python programs and using Python modules.  To get a list of available\n",
      "modules, keywords, symbols, or topics, enter \"modules\", \"keywords\",\n",
      "\"symbols\", or \"topics\".\n",
      "\n",
      "Each module also comes with a one-line summary of what it does; to list\n",
      "the modules whose name or summary contain a given string such as \"spam\",\n",
      "enter \"modules spam\".\n",
      "\n",
      "To quit this help utility and return to the interpreter,\n",
      "enter \"q\" or \"quit\".\n",
      "\n"
     ]
    },
    {
     "name": "stdin",
     "output_type": "stream",
     "text": [
      "help>  q\n"
     ]
    },
    {
     "name": "stdout",
     "output_type": "stream",
     "text": [
      "\n",
      "You are now leaving help and returning to the Python interpreter.\n",
      "If you want to ask for help on a particular object directly from the\n",
      "interpreter, you can type \"help(object)\".  Executing \"help('string')\"\n",
      "has the same effect as typing a particular string at the help> prompt.\n"
     ]
    }
   ],
   "source": [
    "help()"
   ]
  },
  {
   "cell_type": "code",
   "execution_count": 37,
   "id": "5cd83caf-6b0a-4720-aabb-3e87ff0d2176",
   "metadata": {},
   "outputs": [],
   "source": [
    "a = [1,2,3,4]"
   ]
  },
  {
   "cell_type": "code",
   "execution_count": 51,
   "id": "6b1a7a66-04a8-458e-a07e-9e500f7e1f8f",
   "metadata": {},
   "outputs": [],
   "source": [
    "arr = np.array(a)"
   ]
  },
  {
   "cell_type": "code",
   "execution_count": 52,
   "id": "86a3d9ac-6e15-48b6-8f1e-3995498a2356",
   "metadata": {},
   "outputs": [
    {
     "data": {
      "text/plain": [
       "array([1, 2, 3, 4])"
      ]
     },
     "execution_count": 52,
     "metadata": {},
     "output_type": "execute_result"
    }
   ],
   "source": [
    "arr"
   ]
  },
  {
   "cell_type": "code",
   "execution_count": 53,
   "id": "d119cf3b-1349-4743-a7e3-0caf9046b727",
   "metadata": {},
   "outputs": [
    {
     "data": {
      "text/plain": [
       "dtype('int64')"
      ]
     },
     "execution_count": 53,
     "metadata": {},
     "output_type": "execute_result"
    }
   ],
   "source": [
    "arr.dtype"
   ]
  },
  {
   "cell_type": "code",
   "execution_count": 56,
   "id": "b4f97dd7-1cf8-456d-b219-300da2efe843",
   "metadata": {},
   "outputs": [],
   "source": [
    "a = [1.2,3.4,5.2,3.3,6]"
   ]
  },
  {
   "cell_type": "code",
   "execution_count": 57,
   "id": "1d4ef9c2-6ce9-4ce4-9454-668d34a0e243",
   "metadata": {},
   "outputs": [
    {
     "data": {
      "text/plain": [
       "int"
      ]
     },
     "execution_count": 57,
     "metadata": {},
     "output_type": "execute_result"
    }
   ],
   "source": [
    "type(a[-1])"
   ]
  },
  {
   "cell_type": "code",
   "execution_count": 58,
   "id": "a6d8535c-49bc-4e2e-9189-7cdc086fd60a",
   "metadata": {},
   "outputs": [
    {
     "data": {
      "text/plain": [
       "float"
      ]
     },
     "execution_count": 58,
     "metadata": {},
     "output_type": "execute_result"
    }
   ],
   "source": [
    "type(a[0])"
   ]
  },
  {
   "cell_type": "code",
   "execution_count": 60,
   "id": "4590d43d-f4f0-4381-939d-1f2bf800302e",
   "metadata": {},
   "outputs": [],
   "source": [
    "arr2 = np.array(a)"
   ]
  },
  {
   "cell_type": "code",
   "execution_count": 61,
   "id": "bb85954b-5be9-4cfd-97d7-79b671d96b60",
   "metadata": {},
   "outputs": [
    {
     "data": {
      "text/plain": [
       "array([1.2, 3.4, 5.2, 3.3, 6. ])"
      ]
     },
     "execution_count": 61,
     "metadata": {},
     "output_type": "execute_result"
    }
   ],
   "source": [
    "arr2"
   ]
  },
  {
   "cell_type": "code",
   "execution_count": 62,
   "id": "6b0fbdce-3bc0-49be-a51c-086d032823b2",
   "metadata": {},
   "outputs": [
    {
     "data": {
      "text/plain": [
       "numpy.float64"
      ]
     },
     "execution_count": 62,
     "metadata": {},
     "output_type": "execute_result"
    }
   ],
   "source": [
    "type(arr2[0])"
   ]
  },
  {
   "cell_type": "code",
   "execution_count": 63,
   "id": "073bfe4e-6bb4-4c15-80f2-b4337915cd81",
   "metadata": {},
   "outputs": [
    {
     "data": {
      "text/plain": [
       "numpy.float64"
      ]
     },
     "execution_count": 63,
     "metadata": {},
     "output_type": "execute_result"
    }
   ],
   "source": [
    "type(arr2[-1])"
   ]
  },
  {
   "cell_type": "code",
   "execution_count": 76,
   "id": "7565631d-3cb2-410d-9d20-b1b095ad0182",
   "metadata": {},
   "outputs": [],
   "source": [
    "a = [1.2,3.4,5.2,3.3,6,\"4\"]"
   ]
  },
  {
   "cell_type": "code",
   "execution_count": 77,
   "id": "d8c76798-7f7e-407d-b326-601dd1e190aa",
   "metadata": {},
   "outputs": [
    {
     "data": {
      "text/plain": [
       "[1.2, 3.4, 5.2, 3.3, 6, '4']"
      ]
     },
     "execution_count": 77,
     "metadata": {},
     "output_type": "execute_result"
    }
   ],
   "source": [
    "a"
   ]
  },
  {
   "cell_type": "code",
   "execution_count": 78,
   "id": "889d30c3-e247-4186-8b19-4034ba7c05e8",
   "metadata": {},
   "outputs": [
    {
     "data": {
      "text/plain": [
       "float"
      ]
     },
     "execution_count": 78,
     "metadata": {},
     "output_type": "execute_result"
    }
   ],
   "source": [
    "type(a[0])"
   ]
  },
  {
   "cell_type": "code",
   "execution_count": 79,
   "id": "13bf3687-d416-4ce8-86dc-f61e04f56904",
   "metadata": {},
   "outputs": [
    {
     "data": {
      "text/plain": [
       "str"
      ]
     },
     "execution_count": 79,
     "metadata": {},
     "output_type": "execute_result"
    }
   ],
   "source": [
    "type(a[-1])"
   ]
  },
  {
   "cell_type": "code",
   "execution_count": 80,
   "id": "3ef8ff5f-90de-4197-97c2-2b17c45966d8",
   "metadata": {},
   "outputs": [],
   "source": [
    "arr3 = np.array(a)"
   ]
  },
  {
   "cell_type": "code",
   "execution_count": 81,
   "id": "877d31fa-f2b4-4dba-b9c4-9358c7f3b77e",
   "metadata": {},
   "outputs": [
    {
     "data": {
      "text/plain": [
       "array(['1.2', '3.4', '5.2', '3.3', '6', '4'], dtype='<U32')"
      ]
     },
     "execution_count": 81,
     "metadata": {},
     "output_type": "execute_result"
    }
   ],
   "source": [
    "arr3"
   ]
  },
  {
   "cell_type": "code",
   "execution_count": 82,
   "id": "8b7a09fb-6804-4b79-8d43-19582f63cf76",
   "metadata": {},
   "outputs": [
    {
     "data": {
      "text/plain": [
       "numpy.str_"
      ]
     },
     "execution_count": 82,
     "metadata": {},
     "output_type": "execute_result"
    }
   ],
   "source": [
    "type(arr3[0])"
   ]
  },
  {
   "cell_type": "code",
   "execution_count": 83,
   "id": "a7858721-31b8-4311-ab88-f5aa30d51ba6",
   "metadata": {},
   "outputs": [
    {
     "data": {
      "text/plain": [
       "numpy.str_"
      ]
     },
     "execution_count": 83,
     "metadata": {},
     "output_type": "execute_result"
    }
   ],
   "source": [
    "type(arr3[-1])"
   ]
  },
  {
   "cell_type": "code",
   "execution_count": 84,
   "id": "d17bb500-76de-4e72-b9d5-72b7a8abe477",
   "metadata": {},
   "outputs": [],
   "source": [
    "a = [1.2,3.4,5.2,3.3,6]"
   ]
  },
  {
   "cell_type": "code",
   "execution_count": 85,
   "id": "c1782759-185b-4000-a419-aa28ebbd06e5",
   "metadata": {},
   "outputs": [
    {
     "data": {
      "text/plain": [
       "[1.2, 3.4, 5.2, 3.3, 6]"
      ]
     },
     "execution_count": 85,
     "metadata": {},
     "output_type": "execute_result"
    }
   ],
   "source": [
    "a"
   ]
  },
  {
   "cell_type": "code",
   "execution_count": 86,
   "id": "98572b81-64fa-4f11-8ae7-9c17a61316ab",
   "metadata": {},
   "outputs": [],
   "source": [
    "arr4 = np.array(a)"
   ]
  },
  {
   "cell_type": "code",
   "execution_count": 87,
   "id": "54bc1ff2-3110-4919-a748-2fae1afe4cb0",
   "metadata": {},
   "outputs": [
    {
     "data": {
      "text/plain": [
       "array([1.2, 3.4, 5.2, 3.3, 6. ])"
      ]
     },
     "execution_count": 87,
     "metadata": {},
     "output_type": "execute_result"
    }
   ],
   "source": [
    "arr4"
   ]
  },
  {
   "cell_type": "code",
   "execution_count": 91,
   "id": "f902bdad-0f44-4ebd-a8a3-c65128d925af",
   "metadata": {},
   "outputs": [
    {
     "data": {
      "text/plain": [
       "array([1, 3, 5, 3, 6], dtype=int32)"
      ]
     },
     "execution_count": 91,
     "metadata": {},
     "output_type": "execute_result"
    }
   ],
   "source": [
    "arr4.astype(np.int32)"
   ]
  },
  {
   "cell_type": "code",
   "execution_count": 93,
   "id": "37230f7d-c8ab-4385-a39e-61b7f20f488c",
   "metadata": {},
   "outputs": [
    {
     "data": {
      "text/plain": [
       "dtype('int32')"
      ]
     },
     "execution_count": 93,
     "metadata": {},
     "output_type": "execute_result"
    }
   ],
   "source": [
    "arr4.astype(np.int32).dtype"
   ]
  },
  {
   "cell_type": "code",
   "execution_count": 94,
   "id": "7c5eadf0-db48-43be-ad3b-b94bc3dc344e",
   "metadata": {},
   "outputs": [
    {
     "data": {
      "text/plain": [
       "array([1, 3, 5, 3, 6], dtype=int8)"
      ]
     },
     "execution_count": 94,
     "metadata": {},
     "output_type": "execute_result"
    }
   ],
   "source": [
    "arr4.astype(np.int8)"
   ]
  },
  {
   "cell_type": "code",
   "execution_count": 97,
   "id": "91cc260c-f23e-4be4-965c-9b3d8de17b03",
   "metadata": {},
   "outputs": [
    {
     "data": {
      "text/plain": [
       "dtype('int8')"
      ]
     },
     "execution_count": 97,
     "metadata": {},
     "output_type": "execute_result"
    }
   ],
   "source": [
    "arr4.astype(np.int8).dtype"
   ]
  },
  {
   "cell_type": "code",
   "execution_count": 100,
   "id": "8b213f99-b1f1-4f94-bf76-2d1471946faa",
   "metadata": {},
   "outputs": [
    {
     "data": {
      "text/plain": [
       "array([1, 3, 5, 3, 6])"
      ]
     },
     "execution_count": 100,
     "metadata": {},
     "output_type": "execute_result"
    }
   ],
   "source": [
    "arr4.astype(int)"
   ]
  },
  {
   "cell_type": "code",
   "execution_count": 101,
   "id": "911b50ef-5fa3-42b5-8612-319fbfc878f4",
   "metadata": {},
   "outputs": [
    {
     "data": {
      "text/plain": [
       "dtype('int64')"
      ]
     },
     "execution_count": 101,
     "metadata": {},
     "output_type": "execute_result"
    }
   ],
   "source": [
    "arr4.astype(int).dtype"
   ]
  },
  {
   "cell_type": "markdown",
   "id": "1edc9d7d-0045-43ce-9ddd-38a3e00b94d4",
   "metadata": {},
   "source": [
    "# Numpy slicing"
   ]
  },
  {
   "cell_type": "code",
   "execution_count": 102,
   "id": "e87b6c92-93ea-470d-ba47-fa58897aac52",
   "metadata": {},
   "outputs": [],
   "source": [
    "import numpy as np"
   ]
  },
  {
   "cell_type": "code",
   "execution_count": 103,
   "id": "f3b62a19-53a5-4f27-b488-de67c4d7d4b5",
   "metadata": {},
   "outputs": [],
   "source": [
    "arr = np.random.rand(5,5)"
   ]
  },
  {
   "cell_type": "code",
   "execution_count": 104,
   "id": "b01c5d43-af7a-4a29-bf81-d39515fae5ce",
   "metadata": {},
   "outputs": [
    {
     "data": {
      "text/plain": [
       "array([[0.57219047, 0.54644941, 0.06321264, 0.6303495 , 0.28525008],\n",
       "       [0.94083193, 0.87297256, 0.85286752, 0.55612651, 0.37876008],\n",
       "       [0.90405662, 0.46012473, 0.90563732, 0.17137576, 0.65615712],\n",
       "       [0.43118075, 0.78566669, 0.65640321, 0.41957636, 0.40251436],\n",
       "       [0.10786068, 0.54477534, 0.70318774, 0.73920046, 0.27167514]])"
      ]
     },
     "execution_count": 104,
     "metadata": {},
     "output_type": "execute_result"
    }
   ],
   "source": [
    "arr"
   ]
  },
  {
   "cell_type": "code",
   "execution_count": 106,
   "id": "82c0b60c-342d-4993-a546-bada1e251911",
   "metadata": {},
   "outputs": [
    {
     "data": {
      "text/plain": [
       "(5, 5)"
      ]
     },
     "execution_count": 106,
     "metadata": {},
     "output_type": "execute_result"
    }
   ],
   "source": [
    "arr.shape"
   ]
  },
  {
   "cell_type": "code",
   "execution_count": 107,
   "id": "0e3d259f-5a90-4797-96e4-9e8be3efcac7",
   "metadata": {},
   "outputs": [
    {
     "data": {
      "text/plain": [
       "(5, 5)"
      ]
     },
     "execution_count": 107,
     "metadata": {},
     "output_type": "execute_result"
    }
   ],
   "source": [
    "np.shape(arr)"
   ]
  },
  {
   "cell_type": "code",
   "execution_count": 108,
   "id": "3879fc44-753c-4178-a6fb-7ca695fd4791",
   "metadata": {},
   "outputs": [
    {
     "data": {
      "text/plain": [
       "5"
      ]
     },
     "execution_count": 108,
     "metadata": {},
     "output_type": "execute_result"
    }
   ],
   "source": [
    "len(arr)"
   ]
  },
  {
   "cell_type": "code",
   "execution_count": 109,
   "id": "4e1bf5ea-4e04-4594-ac77-dfee40592b5d",
   "metadata": {},
   "outputs": [
    {
     "data": {
      "text/plain": [
       "5"
      ]
     },
     "execution_count": 109,
     "metadata": {},
     "output_type": "execute_result"
    }
   ],
   "source": [
    "np.shape(arr)[0]"
   ]
  },
  {
   "cell_type": "code",
   "execution_count": 110,
   "id": "3af3aeb8-0210-493b-8800-b01beae4b22d",
   "metadata": {},
   "outputs": [
    {
     "data": {
      "text/plain": [
       "dtype('float64')"
      ]
     },
     "execution_count": 110,
     "metadata": {},
     "output_type": "execute_result"
    }
   ],
   "source": [
    "arr.dtype"
   ]
  },
  {
   "cell_type": "code",
   "execution_count": 111,
   "id": "149090cd-a935-4f90-8aa3-ff046db9160c",
   "metadata": {},
   "outputs": [
    {
     "data": {
      "text/plain": [
       "array([[0.57219047, 0.54644941, 0.06321264, 0.6303495 , 0.28525008],\n",
       "       [0.94083193, 0.87297256, 0.85286752, 0.55612651, 0.37876008],\n",
       "       [0.90405662, 0.46012473, 0.90563732, 0.17137576, 0.65615712],\n",
       "       [0.43118075, 0.78566669, 0.65640321, 0.41957636, 0.40251436]])"
      ]
     },
     "execution_count": 111,
     "metadata": {},
     "output_type": "execute_result"
    }
   ],
   "source": [
    "arr[:4]"
   ]
  },
  {
   "cell_type": "code",
   "execution_count": 113,
   "id": "b8755241-39e9-4b71-89ca-5ef7f33227dc",
   "metadata": {},
   "outputs": [
    {
     "data": {
      "text/plain": [
       "0.27167513536166743"
      ]
     },
     "execution_count": 113,
     "metadata": {},
     "output_type": "execute_result"
    }
   ],
   "source": [
    "arr[4,4]"
   ]
  },
  {
   "cell_type": "code",
   "execution_count": 114,
   "id": "e6ef1345-9cc0-4a22-a2b9-486850841a0d",
   "metadata": {},
   "outputs": [
    {
     "data": {
      "text/plain": [
       "(4, 5)"
      ]
     },
     "execution_count": 114,
     "metadata": {},
     "output_type": "execute_result"
    }
   ],
   "source": [
    "arr[:4].shape"
   ]
  },
  {
   "cell_type": "code",
   "execution_count": 116,
   "id": "6974bd78-a8a2-4559-b090-aeee265c546d",
   "metadata": {},
   "outputs": [
    {
     "data": {
      "text/plain": [
       "()"
      ]
     },
     "execution_count": 116,
     "metadata": {},
     "output_type": "execute_result"
    }
   ],
   "source": [
    "arr[4,4].shape"
   ]
  },
  {
   "cell_type": "code",
   "execution_count": 117,
   "id": "41ede259-aa48-4d9c-8e7e-1b29dadb76ee",
   "metadata": {},
   "outputs": [
    {
     "data": {
      "text/plain": [
       "array([[0.10786068, 0.54477534, 0.70318774, 0.73920046, 0.27167514]])"
      ]
     },
     "execution_count": 117,
     "metadata": {},
     "output_type": "execute_result"
    }
   ],
   "source": [
    "arr[4:]"
   ]
  },
  {
   "cell_type": "code",
   "execution_count": 118,
   "id": "92c9bef1-f64d-429b-b6e9-8f2cbd1e93c9",
   "metadata": {},
   "outputs": [
    {
     "data": {
      "text/plain": [
       "(1, 5)"
      ]
     },
     "execution_count": 118,
     "metadata": {},
     "output_type": "execute_result"
    }
   ],
   "source": [
    "arr[4:].shape"
   ]
  },
  {
   "cell_type": "code",
   "execution_count": 119,
   "id": "db6730a0-c0c3-44eb-8ba2-c0c8a3bc54aa",
   "metadata": {},
   "outputs": [
    {
     "data": {
      "text/plain": [
       "array([[0.57219047, 0.54644941, 0.06321264, 0.6303495 , 0.28525008],\n",
       "       [0.94083193, 0.87297256, 0.85286752, 0.55612651, 0.37876008],\n",
       "       [0.90405662, 0.46012473, 0.90563732, 0.17137576, 0.65615712],\n",
       "       [0.43118075, 0.78566669, 0.65640321, 0.41957636, 0.40251436],\n",
       "       [0.10786068, 0.54477534, 0.70318774, 0.73920046, 0.27167514]])"
      ]
     },
     "execution_count": 119,
     "metadata": {},
     "output_type": "execute_result"
    }
   ],
   "source": [
    "arr[:]"
   ]
  },
  {
   "cell_type": "code",
   "execution_count": 120,
   "id": "18c866fc-c889-43b5-8acb-a4f146ec6b84",
   "metadata": {},
   "outputs": [
    {
     "data": {
      "text/plain": [
       "array([[0.57219047, 0.54644941, 0.06321264, 0.6303495 , 0.28525008],\n",
       "       [0.94083193, 0.87297256, 0.85286752, 0.55612651, 0.37876008],\n",
       "       [0.90405662, 0.46012473, 0.90563732, 0.17137576, 0.65615712],\n",
       "       [0.43118075, 0.78566669, 0.65640321, 0.41957636, 0.40251436]])"
      ]
     },
     "execution_count": 120,
     "metadata": {},
     "output_type": "execute_result"
    }
   ],
   "source": [
    "arr[:-1]"
   ]
  },
  {
   "cell_type": "code",
   "execution_count": 121,
   "id": "a2f01376-acbd-467c-9ca1-fa71c85f69c3",
   "metadata": {},
   "outputs": [
    {
     "data": {
      "text/plain": [
       "array([0.10786068, 0.54477534, 0.70318774, 0.73920046, 0.27167514])"
      ]
     },
     "execution_count": 121,
     "metadata": {},
     "output_type": "execute_result"
    }
   ],
   "source": [
    "arr[-1]"
   ]
  },
  {
   "cell_type": "code",
   "execution_count": 122,
   "id": "9f637749-2e16-4c2c-84d1-d96cf2158c53",
   "metadata": {},
   "outputs": [
    {
     "data": {
      "text/plain": [
       "array([[0.10786068, 0.54477534, 0.70318774, 0.73920046, 0.27167514]])"
      ]
     },
     "execution_count": 122,
     "metadata": {},
     "output_type": "execute_result"
    }
   ],
   "source": [
    "arr[-1:]"
   ]
  },
  {
   "cell_type": "code",
   "execution_count": 123,
   "id": "e38efaec-e9fd-4391-939d-367f807da7e1",
   "metadata": {},
   "outputs": [
    {
     "data": {
      "text/plain": [
       "array([[0.57219047, 0.54644941, 0.06321264, 0.6303495 , 0.28525008],\n",
       "       [0.94083193, 0.87297256, 0.85286752, 0.55612651, 0.37876008],\n",
       "       [0.90405662, 0.46012473, 0.90563732, 0.17137576, 0.65615712]])"
      ]
     },
     "execution_count": 123,
     "metadata": {},
     "output_type": "execute_result"
    }
   ],
   "source": [
    "arr[:-2]"
   ]
  },
  {
   "cell_type": "code",
   "execution_count": 127,
   "id": "958a253f-01b0-492b-bd25-3b235a57bc31",
   "metadata": {},
   "outputs": [
    {
     "data": {
      "text/plain": [
       "array([0.28525008, 0.37876008, 0.65615712, 0.40251436, 0.27167514])"
      ]
     },
     "execution_count": 127,
     "metadata": {},
     "output_type": "execute_result"
    }
   ],
   "source": [
    "#last column\n",
    "arr[:,-1]"
   ]
  },
  {
   "cell_type": "code",
   "execution_count": 128,
   "id": "1cb99fb9-5026-4ff4-be73-5619c4d5879b",
   "metadata": {},
   "outputs": [
    {
     "data": {
      "text/plain": [
       "array([0.10786068, 0.54477534, 0.70318774, 0.73920046, 0.27167514])"
      ]
     },
     "execution_count": 128,
     "metadata": {},
     "output_type": "execute_result"
    }
   ],
   "source": [
    "#last row\n",
    "arr[-1,:]"
   ]
  },
  {
   "cell_type": "code",
   "execution_count": 129,
   "id": "dde44eee-8ddf-42be-bf75-d66697adad74",
   "metadata": {},
   "outputs": [
    {
     "data": {
      "text/plain": [
       "array([[0.57219047, 0.54644941, 0.06321264, 0.6303495 , 0.28525008],\n",
       "       [0.94083193, 0.87297256, 0.85286752, 0.55612651, 0.37876008],\n",
       "       [0.90405662, 0.46012473, 0.90563732, 0.17137576, 0.65615712],\n",
       "       [0.43118075, 0.78566669, 0.65640321, 0.41957636, 0.40251436],\n",
       "       [0.10786068, 0.54477534, 0.70318774, 0.73920046, 0.27167514]])"
      ]
     },
     "execution_count": 129,
     "metadata": {},
     "output_type": "execute_result"
    }
   ],
   "source": [
    "arr"
   ]
  },
  {
   "cell_type": "code",
   "execution_count": 132,
   "id": "557a3d10-e58d-48f7-9f6d-f90fe3d9a7b1",
   "metadata": {},
   "outputs": [
    {
     "data": {
      "text/plain": [
       "array([0.6303495 , 0.55612651, 0.17137576, 0.41957636, 0.73920046])"
      ]
     },
     "execution_count": 132,
     "metadata": {},
     "output_type": "execute_result"
    }
   ],
   "source": [
    "#2nd last column\n",
    "arr[:,-2]"
   ]
  },
  {
   "cell_type": "code",
   "execution_count": 135,
   "id": "4901f16a-423a-462d-932b-98a01ea31d81",
   "metadata": {},
   "outputs": [
    {
     "data": {
      "text/plain": [
       "array([[0.57219047, 0.54644941, 0.06321264, 0.6303495 ],\n",
       "       [0.94083193, 0.87297256, 0.85286752, 0.55612651],\n",
       "       [0.90405662, 0.46012473, 0.90563732, 0.17137576],\n",
       "       [0.43118075, 0.78566669, 0.65640321, 0.41957636],\n",
       "       [0.10786068, 0.54477534, 0.70318774, 0.73920046]])"
      ]
     },
     "execution_count": 135,
     "metadata": {},
     "output_type": "execute_result"
    }
   ],
   "source": [
    "#without last column\n",
    "arr[:,:-1]"
   ]
  },
  {
   "cell_type": "code",
   "execution_count": 137,
   "id": "b5c18e5b-2e3a-4329-a563-13ef0a70f452",
   "metadata": {},
   "outputs": [
    {
     "data": {
      "text/plain": [
       "array([[0.57219047, 0.54644941, 0.06321264, 0.6303495 ],\n",
       "       [0.94083193, 0.87297256, 0.85286752, 0.55612651],\n",
       "       [0.90405662, 0.46012473, 0.90563732, 0.17137576],\n",
       "       [0.43118075, 0.78566669, 0.65640321, 0.41957636],\n",
       "       [0.10786068, 0.54477534, 0.70318774, 0.73920046]])"
      ]
     },
     "execution_count": 137,
     "metadata": {},
     "output_type": "execute_result"
    }
   ],
   "source": [
    "#without last column\n",
    "arr[:,:4]"
   ]
  },
  {
   "cell_type": "code",
   "execution_count": 144,
   "id": "56cdee0c-a52a-4805-a971-fa88ba7817ff",
   "metadata": {},
   "outputs": [
    {
     "data": {
      "text/plain": [
       "array([[0.57219047, 0.54644941, 0.06321264, 0.6303495 , 0.28525008],\n",
       "       [0.94083193, 0.87297256, 0.85286752, 0.55612651, 0.37876008],\n",
       "       [0.90405662, 0.46012473, 0.90563732, 0.17137576, 0.65615712],\n",
       "       [0.43118075, 0.78566669, 0.65640321, 0.41957636, 0.40251436]])"
      ]
     },
     "execution_count": 144,
     "metadata": {},
     "output_type": "execute_result"
    }
   ],
   "source": [
    "#without last row\n",
    "arr[:4,:]"
   ]
  },
  {
   "cell_type": "code",
   "execution_count": 145,
   "id": "dfb481d5-d971-4a33-b9ac-f8394314aac0",
   "metadata": {},
   "outputs": [
    {
     "data": {
      "text/plain": [
       "array([[0.57219047, 0.54644941, 0.06321264, 0.6303495 , 0.28525008],\n",
       "       [0.94083193, 0.87297256, 0.85286752, 0.55612651, 0.37876008],\n",
       "       [0.90405662, 0.46012473, 0.90563732, 0.17137576, 0.65615712],\n",
       "       [0.43118075, 0.78566669, 0.65640321, 0.41957636, 0.40251436]])"
      ]
     },
     "execution_count": 145,
     "metadata": {},
     "output_type": "execute_result"
    }
   ],
   "source": [
    "#without last row\n",
    "arr[:-1,:]"
   ]
  },
  {
   "cell_type": "code",
   "execution_count": 146,
   "id": "5f9a37c2-7779-4b17-8385-44e5cf97607a",
   "metadata": {},
   "outputs": [
    {
     "data": {
      "text/plain": [
       "array([[0.57219047, 0.54644941, 0.06321264, 0.6303495 , 0.28525008]])"
      ]
     },
     "execution_count": 146,
     "metadata": {},
     "output_type": "execute_result"
    }
   ],
   "source": [
    " #only 1st row\n",
    "arr[:--1,:]"
   ]
  },
  {
   "cell_type": "code",
   "execution_count": 147,
   "id": "df0b9c76-bc50-45be-8f87-7203cabfae0b",
   "metadata": {},
   "outputs": [],
   "source": [
    "int_arr = np.random.randint(5, size=(6,8))"
   ]
  },
  {
   "cell_type": "code",
   "execution_count": 148,
   "id": "e7ce9216-92c5-4bfb-a49b-ef085f946f28",
   "metadata": {},
   "outputs": [
    {
     "data": {
      "text/plain": [
       "array([[2, 0, 4, 1, 2, 2, 4, 1],\n",
       "       [2, 2, 3, 2, 2, 3, 0, 4],\n",
       "       [1, 4, 0, 0, 4, 1, 1, 3],\n",
       "       [0, 4, 3, 1, 4, 2, 0, 2],\n",
       "       [3, 0, 4, 2, 2, 1, 4, 4],\n",
       "       [2, 4, 4, 3, 4, 1, 4, 3]])"
      ]
     },
     "execution_count": 148,
     "metadata": {},
     "output_type": "execute_result"
    }
   ],
   "source": [
    "int_arr"
   ]
  },
  {
   "cell_type": "code",
   "execution_count": 149,
   "id": "b2203e4f-48ab-4f4f-868f-b61ec0106c08",
   "metadata": {},
   "outputs": [],
   "source": [
    "int_arr_0 = int_arr[0]"
   ]
  },
  {
   "cell_type": "code",
   "execution_count": 150,
   "id": "b90227ac-350b-4ea3-bbc7-cac7b0e2d799",
   "metadata": {},
   "outputs": [
    {
     "data": {
      "text/plain": [
       "array([2, 0, 4, 1, 2, 2, 4, 1])"
      ]
     },
     "execution_count": 150,
     "metadata": {},
     "output_type": "execute_result"
    }
   ],
   "source": [
    "int_arr_0"
   ]
  },
  {
   "cell_type": "code",
   "execution_count": 152,
   "id": "613631f4-55f5-436d-a72f-15b411ff4328",
   "metadata": {},
   "outputs": [
    {
     "data": {
      "text/plain": [
       "array([ True,  True, False,  True,  True,  True, False,  True])"
      ]
     },
     "execution_count": 152,
     "metadata": {},
     "output_type": "execute_result"
    }
   ],
   "source": [
    " (int_arr_0 == 0) | (int_arr_0 == 1) | (int_arr_0 == 2)"
   ]
  },
  {
   "cell_type": "code",
   "execution_count": 167,
   "id": "955a4264-597f-488f-a2ee-45768b0e21c2",
   "metadata": {},
   "outputs": [
    {
     "data": {
      "text/plain": [
       "array([False,  True, False, False, False, False, False, False])"
      ]
     },
     "execution_count": 167,
     "metadata": {},
     "output_type": "execute_result"
    }
   ],
   "source": [
    "(int_arr_0 == 0)"
   ]
  },
  {
   "cell_type": "code",
   "execution_count": 168,
   "id": "a02de74a-d0a7-47d0-ab33-52a82b5b4640",
   "metadata": {},
   "outputs": [
    {
     "data": {
      "text/plain": [
       "array([False, False, False,  True, False, False, False,  True])"
      ]
     },
     "execution_count": 168,
     "metadata": {},
     "output_type": "execute_result"
    }
   ],
   "source": [
    "(int_arr_0 == 1)"
   ]
  },
  {
   "cell_type": "code",
   "execution_count": 169,
   "id": "b3d2c859-afd3-40c5-bf01-b380af3a63e1",
   "metadata": {},
   "outputs": [
    {
     "data": {
      "text/plain": [
       "array([ True, False, False, False,  True,  True, False, False])"
      ]
     },
     "execution_count": 169,
     "metadata": {},
     "output_type": "execute_result"
    }
   ],
   "source": [
    "(int_arr_0 == 2)"
   ]
  },
  {
   "cell_type": "code",
   "execution_count": 165,
   "id": "284f7d67-26c6-416b-8768-cd58d22aa2bc",
   "metadata": {},
   "outputs": [
    {
     "name": "stdout",
     "output_type": "stream",
     "text": [
      "[False  True False False False False False False]\n",
      "[False  True False  True False False False  True]\n",
      "[ True  True False  True  True  True False  True]\n"
     ]
    }
   ],
   "source": [
    "bool_arr_0 = False\n",
    "for i in range(3):\n",
    "    bool_arr_0 = bool_arr_0 | (int_arr_0 == i)\n",
    "    print(bool_arr_0)"
   ]
  },
  {
   "cell_type": "code",
   "execution_count": 166,
   "id": "99849051-5dd5-48dc-90e3-5871ee8b2390",
   "metadata": {},
   "outputs": [
    {
     "data": {
      "text/plain": [
       "array([ True,  True, False,  True,  True,  True, False,  True])"
      ]
     },
     "execution_count": 166,
     "metadata": {},
     "output_type": "execute_result"
    }
   ],
   "source": [
    "bool_arr_0"
   ]
  },
  {
   "cell_type": "code",
   "execution_count": 164,
   "id": "5df7454e-4a5c-4d24-a960-30825d92da64",
   "metadata": {},
   "outputs": [],
   "source": [
    "# bool_arr_0 = True\n",
    "# for i in range(3):\n",
    "#     bool_arr_0 = bool_arr_0 | (int_arr_0 == i)"
   ]
  },
  {
   "cell_type": "code",
   "execution_count": 163,
   "id": "ef9c44ff-bfef-4a2a-bfac-c9579eaf4785",
   "metadata": {},
   "outputs": [],
   "source": [
    "# bool_arr_0"
   ]
  },
  {
   "cell_type": "code",
   "execution_count": 171,
   "id": "15654410-c035-4e7a-a390-1b725b8cce8d",
   "metadata": {},
   "outputs": [
    {
     "data": {
      "text/plain": [
       "array([2, 0, 4, 1, 2, 2, 4, 1])"
      ]
     },
     "execution_count": 171,
     "metadata": {},
     "output_type": "execute_result"
    }
   ],
   "source": [
    "int_arr_0"
   ]
  },
  {
   "cell_type": "code",
   "execution_count": 172,
   "id": "2983a0c0-5f36-4fda-8777-287d1624812b",
   "metadata": {},
   "outputs": [
    {
     "data": {
      "text/plain": [
       "array([2, 0, 1, 2, 2, 1])"
      ]
     },
     "execution_count": 172,
     "metadata": {},
     "output_type": "execute_result"
    }
   ],
   "source": [
    "int_arr_0[bool_arr_0]"
   ]
  },
  {
   "cell_type": "markdown",
   "id": "5e1c2fca-c0fb-4a19-aa65-5c4afdc846f2",
   "metadata": {},
   "source": [
    "# Numpy Matrix operations"
   ]
  },
  {
   "cell_type": "code",
   "execution_count": 173,
   "id": "50aa2729-652e-4cab-bcf7-54bec73db25e",
   "metadata": {},
   "outputs": [],
   "source": [
    "import numpy as np"
   ]
  },
  {
   "cell_type": "code",
   "execution_count": 175,
   "id": "2b92ea85-22ad-4aa6-a673-bcb4df807bee",
   "metadata": {},
   "outputs": [],
   "source": [
    "marks = [[11,23,23,22],[22,12,23,19],[25,24,24,24]]"
   ]
  },
  {
   "cell_type": "code",
   "execution_count": 176,
   "id": "73950ffe-a348-44ab-836e-0e3423dc1052",
   "metadata": {},
   "outputs": [
    {
     "data": {
      "text/plain": [
       "11"
      ]
     },
     "execution_count": 176,
     "metadata": {},
     "output_type": "execute_result"
    }
   ],
   "source": [
    "marks[0][0]"
   ]
  },
  {
   "cell_type": "code",
   "execution_count": 177,
   "id": "5a435a71-adf1-4870-a571-e44d322db987",
   "metadata": {},
   "outputs": [
    {
     "data": {
      "text/plain": [
       "[11, 23, 23, 22]"
      ]
     },
     "execution_count": 177,
     "metadata": {},
     "output_type": "execute_result"
    }
   ],
   "source": [
    "marks[0]"
   ]
  },
  {
   "cell_type": "code",
   "execution_count": 178,
   "id": "24a88527-e962-4493-bf2b-b31580061bf7",
   "metadata": {},
   "outputs": [
    {
     "data": {
      "text/plain": [
       "(11, 22, 25)"
      ]
     },
     "execution_count": 178,
     "metadata": {},
     "output_type": "execute_result"
    }
   ],
   "source": [
    "marks[0][0], marks[1][0], marks[2][0]"
   ]
  },
  {
   "cell_type": "code",
   "execution_count": 179,
   "id": "e519a15d-84aa-4a7d-9428-9df2f9d3ff9e",
   "metadata": {},
   "outputs": [
    {
     "data": {
      "text/plain": [
       "3"
      ]
     },
     "execution_count": 179,
     "metadata": {},
     "output_type": "execute_result"
    }
   ],
   "source": [
    "len(marks)"
   ]
  },
  {
   "cell_type": "code",
   "execution_count": 182,
   "id": "594327bc-40d9-4ddf-a659-8a19043399dd",
   "metadata": {},
   "outputs": [
    {
     "data": {
      "text/plain": [
       "4"
      ]
     },
     "execution_count": 182,
     "metadata": {},
     "output_type": "execute_result"
    }
   ],
   "source": [
    "len(marks[0])"
   ]
  },
  {
   "cell_type": "code",
   "execution_count": 190,
   "id": "d1ea9b82-f4d5-4184-b31a-42d78b7a53c3",
   "metadata": {},
   "outputs": [],
   "source": [
    "marks_transpose = []\n",
    "for j in range(len(marks[0])):\n",
    "    marks_transpose.append([])\n",
    "    for i in range(len(marks)):\n",
    "        marks_transpose[j].append(marks[i][j])"
   ]
  },
  {
   "cell_type": "code",
   "execution_count": 191,
   "id": "60453376-d400-4d20-ad6f-ed3ce7d30900",
   "metadata": {},
   "outputs": [
    {
     "data": {
      "text/plain": [
       "[[11, 22, 25], [23, 12, 24], [23, 23, 24], [22, 19, 24]]"
      ]
     },
     "execution_count": 191,
     "metadata": {},
     "output_type": "execute_result"
    }
   ],
   "source": [
    "marks_transpose"
   ]
  },
  {
   "cell_type": "code",
   "execution_count": 193,
   "id": "d6b6bb8b-867d-4d6a-80af-fa4dcfd95e76",
   "metadata": {},
   "outputs": [],
   "source": [
    "marks_arr = np.array(marks)"
   ]
  },
  {
   "cell_type": "code",
   "execution_count": 194,
   "id": "160b19d7-0699-4858-b23b-308873002826",
   "metadata": {},
   "outputs": [
    {
     "data": {
      "text/plain": [
       "array([[11, 23, 23, 22],\n",
       "       [22, 12, 23, 19],\n",
       "       [25, 24, 24, 24]])"
      ]
     },
     "execution_count": 194,
     "metadata": {},
     "output_type": "execute_result"
    }
   ],
   "source": [
    "marks_arr"
   ]
  },
  {
   "cell_type": "code",
   "execution_count": 195,
   "id": "2dc942e1-fc67-4496-ae28-750271d8159f",
   "metadata": {},
   "outputs": [
    {
     "data": {
      "text/plain": [
       "array([[11, 22, 25],\n",
       "       [23, 12, 24],\n",
       "       [23, 23, 24],\n",
       "       [22, 19, 24]])"
      ]
     },
     "execution_count": 195,
     "metadata": {},
     "output_type": "execute_result"
    }
   ],
   "source": [
    "marks_arr.T"
   ]
  },
  {
   "cell_type": "code",
   "execution_count": 200,
   "id": "b2806736-3ef0-44a7-a937-c8ad38831080",
   "metadata": {},
   "outputs": [
    {
     "data": {
      "text/plain": [
       "array([79, 76, 97])"
      ]
     },
     "execution_count": 200,
     "metadata": {},
     "output_type": "execute_result"
    }
   ],
   "source": [
    " marks_arr.sum(axis=1)"
   ]
  },
  {
   "cell_type": "code",
   "execution_count": 197,
   "id": "b10b7949-155d-454c-988f-d48755339c02",
   "metadata": {},
   "outputs": [
    {
     "data": {
      "text/plain": [
       "array([58, 59, 70, 65])"
      ]
     },
     "execution_count": 197,
     "metadata": {},
     "output_type": "execute_result"
    }
   ],
   "source": [
    "marks_arr.sum(axis=0)"
   ]
  },
  {
   "cell_type": "code",
   "execution_count": 202,
   "id": "2a58b592-18af-4bb6-97b1-f16281e901ae",
   "metadata": {},
   "outputs": [
    {
     "data": {
      "text/plain": [
       "array([79., 76., 97.])"
      ]
     },
     "execution_count": 202,
     "metadata": {},
     "output_type": "execute_result"
    }
   ],
   "source": [
    "# each marks are out of 25\n",
    "# percentage\n",
    "marks_arr.sum(axis=1)/100*100"
   ]
  },
  {
   "cell_type": "code",
   "execution_count": 203,
   "id": "b82cd117-5e09-4fd8-a3cc-8d92a9b32b6e",
   "metadata": {},
   "outputs": [
    {
     "data": {
      "text/plain": [
       "array([58, 59, 70, 65])"
      ]
     },
     "execution_count": 203,
     "metadata": {},
     "output_type": "execute_result"
    }
   ],
   "source": [
    " marks_arr.T.sum(axis=1)"
   ]
  },
  {
   "cell_type": "code",
   "execution_count": 204,
   "id": "ec5b9a73-2143-4887-a4d2-3452de949c1c",
   "metadata": {},
   "outputs": [
    {
     "data": {
      "text/plain": [
       "array([[11, 23, 23, 22],\n",
       "       [22, 12, 23, 19],\n",
       "       [25, 24, 24, 24]])"
      ]
     },
     "execution_count": 204,
     "metadata": {},
     "output_type": "execute_result"
    }
   ],
   "source": [
    "marks_arr"
   ]
  },
  {
   "cell_type": "code",
   "execution_count": 213,
   "id": "8a5d0e69-0bc6-4403-bf36-b8decb64c128",
   "metadata": {},
   "outputs": [],
   "source": [
    "grace_marks = np.array([[1,2,3]])"
   ]
  },
  {
   "cell_type": "code",
   "execution_count": 214,
   "id": "c79f92f8-5c54-46d8-841f-c7f68bdb6fd5",
   "metadata": {},
   "outputs": [
    {
     "data": {
      "text/plain": [
       "array([[1, 2, 3]])"
      ]
     },
     "execution_count": 214,
     "metadata": {},
     "output_type": "execute_result"
    }
   ],
   "source": [
    "grace_marks"
   ]
  },
  {
   "cell_type": "code",
   "execution_count": 215,
   "id": "95577e26-0d23-4f62-90be-adf1a37f440f",
   "metadata": {},
   "outputs": [
    {
     "data": {
      "text/plain": [
       "(1, 3)"
      ]
     },
     "execution_count": 215,
     "metadata": {},
     "output_type": "execute_result"
    }
   ],
   "source": [
    "grace_marks.shape"
   ]
  },
  {
   "cell_type": "code",
   "execution_count": 218,
   "id": "649df468-b23d-4bc8-80b7-087e56eccb12",
   "metadata": {},
   "outputs": [],
   "source": [
    "grace_marks = grace_marks.T"
   ]
  },
  {
   "cell_type": "code",
   "execution_count": 221,
   "id": "4e9622df-c868-4fe9-9632-686ab0c6c8f2",
   "metadata": {},
   "outputs": [
    {
     "data": {
      "text/plain": [
       "(3, 1)"
      ]
     },
     "execution_count": 221,
     "metadata": {},
     "output_type": "execute_result"
    }
   ],
   "source": [
    "grace_marks.shape"
   ]
  },
  {
   "cell_type": "code",
   "execution_count": 222,
   "id": "36746305-06bf-4b4e-b11e-0fe9ca780f62",
   "metadata": {},
   "outputs": [
    {
     "data": {
      "text/plain": [
       "array([[12, 24, 24, 23],\n",
       "       [24, 14, 25, 21],\n",
       "       [28, 27, 27, 27]])"
      ]
     },
     "execution_count": 222,
     "metadata": {},
     "output_type": "execute_result"
    }
   ],
   "source": [
    "marks_arr + grace_marks"
   ]
  },
  {
   "cell_type": "code",
   "execution_count": 224,
   "id": "82896ffe-ab0e-4770-b9a4-2e38d1d76df8",
   "metadata": {},
   "outputs": [],
   "source": [
    "marks_arr = [[1,2,3,4],[5,6,7,8],[9,10,11,12]]"
   ]
  },
  {
   "cell_type": "code",
   "execution_count": 225,
   "id": "5aa7c8cb-7d94-4ee1-8c8d-3b17ae324cf0",
   "metadata": {},
   "outputs": [
    {
     "data": {
      "text/plain": [
       "[[1, 2, 3, 4], [5, 6, 7, 8], [9, 10, 11, 12]]"
      ]
     },
     "execution_count": 225,
     "metadata": {},
     "output_type": "execute_result"
    }
   ],
   "source": [
    "marks_arr"
   ]
  },
  {
   "cell_type": "code",
   "execution_count": 227,
   "id": "b46dc1fc-5224-479d-8850-c4ff04ef635a",
   "metadata": {},
   "outputs": [],
   "source": [
    "marks_arr = np.array(marks_arr)"
   ]
  },
  {
   "cell_type": "code",
   "execution_count": 228,
   "id": "49cc23ad-37d1-4a8f-985a-b56b30dbd50c",
   "metadata": {},
   "outputs": [
    {
     "data": {
      "text/plain": [
       "array([[ 1,  2,  3,  4],\n",
       "       [ 5,  6,  7,  8],\n",
       "       [ 9, 10, 11, 12]])"
      ]
     },
     "execution_count": 228,
     "metadata": {},
     "output_type": "execute_result"
    }
   ],
   "source": [
    "marks_arr"
   ]
  },
  {
   "cell_type": "code",
   "execution_count": 309,
   "id": "2b85408f-6e1d-4517-b774-519f8b724f55",
   "metadata": {},
   "outputs": [],
   "source": [
    "weights = np.array([[0.4,0.2,0.2,0.2]])"
   ]
  },
  {
   "cell_type": "code",
   "execution_count": 310,
   "id": "2aa43d21-f674-4a69-b1f1-03ef82cb9850",
   "metadata": {},
   "outputs": [
    {
     "data": {
      "text/plain": [
       "array([[0.4, 0.2, 0.2, 0.2]])"
      ]
     },
     "execution_count": 310,
     "metadata": {},
     "output_type": "execute_result"
    }
   ],
   "source": [
    "weights"
   ]
  },
  {
   "cell_type": "code",
   "execution_count": 304,
   "id": "e9b5c6cd-0cbe-4a48-8559-d7c2ffad7ccd",
   "metadata": {},
   "outputs": [
    {
     "data": {
      "text/plain": [
       "(4,)"
      ]
     },
     "execution_count": 304,
     "metadata": {},
     "output_type": "execute_result"
    }
   ],
   "source": [
    "weights.shape"
   ]
  },
  {
   "cell_type": "code",
   "execution_count": 273,
   "id": "d6498ad2-ed99-4b76-b261-57e10fc371d1",
   "metadata": {},
   "outputs": [
    {
     "data": {
      "text/plain": [
       "array([[0.4],\n",
       "       [0.2],\n",
       "       [0.2],\n",
       "       [0.2]])"
      ]
     },
     "execution_count": 273,
     "metadata": {},
     "output_type": "execute_result"
    }
   ],
   "source": [
    "weights.T"
   ]
  },
  {
   "cell_type": "code",
   "execution_count": 255,
   "id": "60dc4b96-04b9-4fcc-9b67-46a99f06e0b2",
   "metadata": {},
   "outputs": [],
   "source": [
    "weighted_marks = marks_arr * weights"
   ]
  },
  {
   "cell_type": "code",
   "execution_count": 256,
   "id": "7634e458-ad7a-40a3-b2fa-96e73f044516",
   "metadata": {},
   "outputs": [
    {
     "data": {
      "text/plain": [
       "array([[0.4, 0.4, 0.6, 0.8],\n",
       "       [2. , 1.2, 1.4, 1.6],\n",
       "       [3.6, 2. , 2.2, 2.4]])"
      ]
     },
     "execution_count": 256,
     "metadata": {},
     "output_type": "execute_result"
    }
   ],
   "source": [
    "weighted_marks"
   ]
  },
  {
   "cell_type": "code",
   "execution_count": 305,
   "id": "a9d266ae-f616-4e6f-a154-11e5ae59d477",
   "metadata": {},
   "outputs": [
    {
     "name": "stdout",
     "output_type": "stream",
     "text": [
      "[0.4 0.2 0.2 0.2]\n",
      "(4,)\n"
     ]
    }
   ],
   "source": [
    "print(weights)\n",
    "print(weights.shape)\n",
    "weighted_marks_arr = []\n",
    "temp = 0\n",
    "for i in range(len(marks_arr)):\n",
    "    for j in range(len(marks_arr[0])):\n",
    "        temp += marks_arr[i][j]*weights[j];\n",
    "    weighted_marks_arr.append(temp)\n",
    "    temp = 0"
   ]
  },
  {
   "cell_type": "code",
   "execution_count": 306,
   "id": "7b730cd0-0a2c-4383-bf16-16ab5b0605cc",
   "metadata": {},
   "outputs": [
    {
     "data": {
      "text/plain": [
       "array([ 2.2,  6.2, 10.2])"
      ]
     },
     "execution_count": 306,
     "metadata": {},
     "output_type": "execute_result"
    }
   ],
   "source": [
    "np.array(weighted_marks_arr)"
   ]
  },
  {
   "cell_type": "code",
   "execution_count": 313,
   "id": "db58c9ad-f952-41bb-b71f-7a85a68160b2",
   "metadata": {},
   "outputs": [
    {
     "data": {
      "text/plain": [
       "array([[ 2.2],\n",
       "       [ 6.2],\n",
       "       [10.2]])"
      ]
     },
     "execution_count": 313,
     "metadata": {},
     "output_type": "execute_result"
    }
   ],
   "source": [
    "marks_arr @ weights.T"
   ]
  },
  {
   "cell_type": "code",
   "execution_count": 314,
   "id": "87e58268-00db-492d-81dd-b720bf32970c",
   "metadata": {},
   "outputs": [
    {
     "data": {
      "text/plain": [
       "array([[ 2.2],\n",
       "       [ 6.2],\n",
       "       [10.2]])"
      ]
     },
     "execution_count": 314,
     "metadata": {},
     "output_type": "execute_result"
    }
   ],
   "source": [
    "marks_arr.dot(weights.T)"
   ]
  },
  {
   "cell_type": "code",
   "execution_count": null,
   "id": "a238085a-d019-4220-ac42-22447cea26e0",
   "metadata": {},
   "outputs": [],
   "source": [
    " "
   ]
  }
 ],
 "metadata": {
  "kernelspec": {
   "display_name": "Python 3 (ipykernel)",
   "language": "python",
   "name": "python3"
  },
  "language_info": {
   "codemirror_mode": {
    "name": "ipython",
    "version": 3
   },
   "file_extension": ".py",
   "mimetype": "text/x-python",
   "name": "python",
   "nbconvert_exporter": "python",
   "pygments_lexer": "ipython3",
   "version": "3.12.2"
  }
 },
 "nbformat": 4,
 "nbformat_minor": 5
}
